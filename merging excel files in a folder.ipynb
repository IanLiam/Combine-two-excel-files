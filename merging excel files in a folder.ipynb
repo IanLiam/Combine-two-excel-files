{
 "cells": [
  {
   "cell_type": "code",
   "execution_count": null,
   "metadata": {},
   "outputs": [],
   "source": [
    "import os\n",
    "import pandas as pd\n",
    "\n",
    "# Set the path to the folder containing Excel files\n",
    "folder_path = 'C:\\Users\\ian.muthengi\\Documents\\fff(2)'\n",
    "\n",
    "# Get a list of all Excel files in the folder\n",
    "excel_files = [file for file in os.listdir(folder_path) if file.endswith('.xlsx')]\n",
    "\n",
    "# Initialize an empty DataFrame to store the merged data\n",
    "merged_data = pd.DataFrame()\n",
    "\n",
    "# Loop through each Excel file and append its data to the merged_data DataFrame\n",
    "for file in excel_files:\n",
    "    file_path = os.path.join(folder_path, file)\n",
    "    df = pd.read_excel(file_path)\n",
    "    merged_data = merged_data.append(df, ignore_index=True)\n",
    "\n",
    "# Specify the path for the merged Excel file\n",
    "output_path = 'path/to/output/merged_file.xlsx'\n",
    "\n",
    "# Save the merged data to a new Excel file\n",
    "merged_data.to_excel(output_path, index=False)\n",
    "\n",
    "print(f'Merged data saved to {output_path}')\n"
   ]
  }
 ],
 "metadata": {
  "language_info": {
   "name": "python"
  }
 },
 "nbformat": 4,
 "nbformat_minor": 2
}
